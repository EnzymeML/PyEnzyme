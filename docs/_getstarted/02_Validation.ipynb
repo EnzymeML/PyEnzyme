{
 "cells": [
  {
   "cell_type": "markdown",
   "id": "bd4ef110-3fe6-4206-aabf-5e537107c2be",
   "metadata": {},
   "source": [
    "# Validation of EnzymeML documents\n",
    "\n",
    "EnzymeML is considered a container for data and does not perform any validation aside from data type checks. Hence, a user is free to insert whatever is necessary for the application without any restrictions. However, once data will be published to databases, data compliance needs to be guaranteed.\n",
    "\n",
    "For this, PyEnzyme allows EnzymeML documents to be validated against a database standard before upload. Databases can host a specific YAML file that can be generated from a spreadsheet, which in turn will validate compliance or not. In addition, if the document is non-compliant, a report will be given where and why a document received negative validation.\n",
    "\n",
    "The YAML validation file mirrors the complete EnzymeML data model and offers content to be checked on the following attributes:\n",
    "\n",
    "- __Mandatory__: Whether or not this field is required.\n",
    "- __Value ranges__: An interval where vertain values should be\n",
    "- __Controlled vocabularies__: For fields where only certain values are allowed. Intended to use for textual fields.\n",
    "\n",
    "The following example will demonstrate how to generate a EnzymeML Validation Spreadsheet and convert it to to a YAML file. Finally, an example `EnzymeMLDocument` will be loaded and validated against the given YAML file. For the sake of demonstration, validation will fail to display an example report."
   ]
  },
  {
   "cell_type": "code",
   "execution_count": 1,
   "id": "f022f07c-5cd3-45da-bd50-0a0fd91d91ab",
   "metadata": {},
   "outputs": [],
   "source": [
    "import pyenzyme as pe"
   ]
  },
  {
   "cell_type": "markdown",
   "id": "89ac28af-18aa-45d5-95c1-15b046983736",
   "metadata": {},
   "source": [
    "### Generation and conversion of a validation spreadsheet\n",
    "\n",
    "The `EnzymeMLValidator` class has methods to generate and convert an EnzymeML validation spreadsheet. It should be noted, that the generated spreadsheet will always be up to the data models state and is not maintained manually. The `EnzymeMLDocument` class definition is recursively inferred to generate the file. This way, once the data model is extended, the spreadsheet will be updated too. "
   ]
  },
  {
   "cell_type": "code",
   "execution_count": 2,
   "id": "86fcc0f5-9884-4e38-9ae1-c57c9f581a1d",
   "metadata": {},
   "outputs": [],
   "source": [
    "from pyenzyme.enzymeml.tools import EnzymeMLValidator"
   ]
  },
  {
   "cell_type": "code",
   "execution_count": 3,
   "id": "3dfc46df-dcee-49d7-a521-f36063ffaa09",
   "metadata": {},
   "outputs": [],
   "source": [
    "# Generation of a validation spreadsheet\n",
    "EnzymeMLValidator.generateValidationSpreadsheet(\".\")\n",
    "\n",
    "# ... for those who like to go directly to YAML\n",
    "yaml_string = EnzymeMLValidator.generateValidationYAML(\".\")"
   ]
  },
  {
   "cell_type": "markdown",
   "id": "c41db6a3-1b41-456a-8b64-69b81d28567f",
   "metadata": {},
   "source": [
    "### Using an example spreadsheet\n",
    "Since the blank validation YAML won't demonstrate all types of checks, we are going to use an example that has been provided in this directory and convert it to YAML."
   ]
  },
  {
   "cell_type": "code",
   "execution_count": 4,
   "id": "ab49c056-788b-44ff-b33c-5dd3094cf8a0",
   "metadata": {},
   "outputs": [],
   "source": [
    "# Convert an example spreadsheet to YAML\n",
    "yaml_string = EnzymeMLValidator.convertSheetToYAML(\n",
    "    path=\"EnzymeML_Validation_Template_Example.xlsx\",\n",
    "    filename=\"EnzymeML_Validation_Template_Example\"\n",
    ")"
   ]
  },
  {
   "cell_type": "markdown",
   "id": "9e93f1ef-f9cc-48d0-ba53-5a54a80803e1",
   "metadata": {},
   "source": [
    "### Performing validation\n",
    "\n",
    "Once the YAML file is ready, validation can be done for an example `EnzymeMLDocument` found in this directory. The validation for this example will fail by intention and thus return a report that will be shown here. Such a report is returned as `Dict` and can be inspected either manually or programmatically. This was done to allow automation workflows to utilize validation."
   ]
  },
  {
   "cell_type": "code",
   "execution_count": 5,
   "id": "def10312-7eb3-41d4-a634-c64ff9b393f5",
   "metadata": {},
   "outputs": [
    {
     "name": "stdout",
     "output_type": "stream",
     "text": [
      ">> Document is valid: False\n"
     ]
    }
   ],
   "source": [
    "# Load an example document\n",
    "enzmldoc = pe.EnzymeMLDocument.fromFile(\"Model_4.omex\")\n",
    "\n",
    "# Perform validation against the preciously generated YAML\n",
    "report, is_valid = enzmldoc.validateDocument(yaml_path=\"EnzymeML_Validation_Template_Example.yaml\")\n",
    "\n",
    "print(f\">> Document is valid: {is_valid}\")"
   ]
  },
  {
   "cell_type": "code",
   "execution_count": 6,
   "id": "c87305f6-e489-4a28-9173-3af17793c5dd",
   "metadata": {},
   "outputs": [
    {
     "name": "stdout",
     "output_type": "stream",
     "text": [
      "{\n",
      "    \"name\": {\n",
      "        \"enum_error\": \"Value of 'EnzymeML_Lagerman' does not comply with vocabulary ['Specific Title']\"\n",
      "    },\n",
      "    \"reactant_dict\": {\n",
      "        \"s0\": {\n",
      "            \"init_conc\": {\n",
      "                \"range_error\": \"Value of '20.0' is out of range for [400.0, 600.0]\"\n",
      "            }\n",
      "        },\n",
      "        \"s1\": {\n",
      "            \"init_conc\": {\n",
      "                \"range_error\": \"Value of '42.0' is out of range for [400.0, 600.0]\"\n",
      "            }\n",
      "        },\n",
      "        \"s2\": {\n",
      "            \"init_conc\": {\n",
      "                \"range_error\": \"Value of '0.0' is out of range for [400.0, 600.0]\"\n",
      "            }\n",
      "        },\n",
      "        \"s3\": {\n",
      "            \"init_conc\": {\n",
      "                \"range_error\": \"Value of '0.0' is out of range for [400.0, 600.0]\"\n",
      "            }\n",
      "        }\n",
      "    },\n",
      "    \"global_parameters\": {\n",
      "        \"v_r\": {\n",
      "            \"value\": {\n",
      "                \"mandatory_error\": \"Mandatory attribute is not given.\"\n",
      "            },\n",
      "            \"initial_value\": {\n",
      "                \"mandatory_error\": \"Mandatory attribute is not given.\"\n",
      "            },\n",
      "            \"upper\": {\n",
      "                \"mandatory_error\": \"Mandatory attribute is not given.\"\n",
      "            },\n",
      "            \"lower\": {\n",
      "                \"mandatory_error\": \"Mandatory attribute is not given.\"\n",
      "            },\n",
      "            \"stdev\": {\n",
      "                \"mandatory_error\": \"Mandatory attribute is not given.\"\n",
      "            },\n",
      "            \"ontology\": {\n",
      "                \"mandatory_error\": \"Mandatory attribute is not given.\"\n",
      "            }\n",
      "        },\n",
      "        \"K_si\": {\n",
      "            \"value\": {\n",
      "                \"mandatory_error\": \"Mandatory attribute is not given.\"\n",
      "            },\n",
      "            \"initial_value\": {\n",
      "                \"mandatory_error\": \"Mandatory attribute is not given.\"\n",
      "            },\n",
      "            \"upper\": {\n",
      "                \"mandatory_error\": \"Mandatory attribute is not given.\"\n",
      "            },\n",
      "            \"lower\": {\n",
      "                \"mandatory_error\": \"Mandatory attribute is not given.\"\n",
      "            },\n",
      "            \"stdev\": {\n",
      "                \"mandatory_error\": \"Mandatory attribute is not given.\"\n",
      "            },\n",
      "            \"ontology\": {\n",
      "                \"mandatory_error\": \"Mandatory attribute is not given.\"\n",
      "            }\n",
      "        },\n",
      "        \"K_n\": {\n",
      "            \"value\": {\n",
      "                \"mandatory_error\": \"Mandatory attribute is not given.\"\n",
      "            },\n",
      "            \"initial_value\": {\n",
      "                \"mandatory_error\": \"Mandatory attribute is not given.\"\n",
      "            },\n",
      "            \"upper\": {\n",
      "                \"mandatory_error\": \"Mandatory attribute is not given.\"\n",
      "            },\n",
      "            \"lower\": {\n",
      "                \"mandatory_error\": \"Mandatory attribute is not given.\"\n",
      "            },\n",
      "            \"stdev\": {\n",
      "                \"mandatory_error\": \"Mandatory attribute is not given.\"\n",
      "            },\n",
      "            \"ontology\": {\n",
      "                \"mandatory_error\": \"Mandatory attribute is not given.\"\n",
      "            }\n",
      "        }\n",
      "    }\n",
      "}\n"
     ]
    }
   ],
   "source": [
    "# Lets inspect the report\n",
    "import json\n",
    "\n",
    "print(json.dumps(report, indent=4))"
   ]
  },
  {
   "cell_type": "markdown",
   "id": "bc221feb-7457-4bb0-abd2-490248ae502e",
   "metadata": {},
   "source": [
    "-----"
   ]
  }
 ],
 "metadata": {
  "kernelspec": {
   "display_name": "Python 3 (ipykernel)",
   "language": "python",
   "name": "python3"
  },
  "language_info": {
   "codemirror_mode": {
    "name": "ipython",
    "version": 3
   },
   "file_extension": ".py",
   "mimetype": "text/x-python",
   "name": "python",
   "nbconvert_exporter": "python",
   "pygments_lexer": "ipython3",
   "version": "3.9.6"
  }
 },
 "nbformat": 4,
 "nbformat_minor": 5
}
