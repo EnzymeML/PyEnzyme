{
 "cells": [
  {
   "cell_type": "markdown",
   "id": "67d1ee98-ca30-46d8-88ed-5d316b59d3f2",
   "metadata": {},
   "source": [
    "# Modeling a reaction by mass action cascades using PySCeS\n",
    "\n",
    "This notebook is part of the publication \"EnzymeML at Work\" from Lauterbach et al. 2022 and adds a given micro-kinetic model to an EnzymeML document. Prior to this, experimental data was collected using the EnzymeML spreadsheet and converted to EnzymeML. The following notebook addresses the following key procedures using PyEnzyme:\n",
    "\n",
    "- Editing existing species\n",
    "- Adding new species from scratch or by DB-fetch\n",
    "- Adding reactions via an equation\n",
    "- Setting up a model generator, and assigning rate laws to a kinetic model\n",
    "- Fitting parameters in this kinetic model to experimental data with PySCeS\n",
    "\n",
    "We demonstrate how to open an EnzymeML document, extend this document with a micro-kinetic model using PyEnzyme, and then use [PySCeS](https://pyscesdocs.readthedocs.io) to estimate the parameters of this micro-kinetic model based on the measurement data included in the EnzymeML document. \n",
    "\n",
    "For this to work, you will have to have PySCeS and PyEnzyme installed, which can be done using: \n",
    "\n",
    "```\n",
    "    !pip install pysces\n",
    "    !pip install git+git://github.com/EnzymeML/PyEnzyme.git@Refactoring\n",
    "```\n",
    "\n",
    "This is **not needed** when running this notebook via **Binder**, as the environment is already set up.\n",
    "\n",
    "For the parameter estimation with PySCeS, the CVODE algorithm is needed; this is provided by **Assimulo**. If you are using the **Anaconda** Python Distribution (and when running this notebook via **Binder**), this can easily be achieved by uncommenting and running the following line of code. Alternatively, refer to the Assimulo documentation: https://jmodelica.org/assimulo/"
   ]
  },
  {
   "cell_type": "code",
   "execution_count": 1,
   "id": "a2304e0f",
   "metadata": {},
   "outputs": [],
   "source": [
    "# !conda install -y -c conda-forge assimulo"
   ]
  },
  {
   "cell_type": "markdown",
   "id": "332c1e90",
   "metadata": {},
   "source": [
    "We are now ready to import the required modules."
   ]
  },
  {
   "cell_type": "code",
   "execution_count": 1,
   "id": "fd0d9166-60c8-42e1-8a33-6f8310bdb8d3",
   "metadata": {},
   "outputs": [],
   "source": [
    "from pyenzyme import EnzymeMLDocument, EnzymeReaction, Complex, Reactant, Protein, Creator\n",
    "from pyenzyme.enzymeml.models import KineticModel, KineticParameter"
   ]
  },
  {
   "cell_type": "markdown",
   "id": "8636f0cb-de71-4022-81dc-80045886c532",
   "metadata": {},
   "source": [
    "### Editing an EnzymeML document\n",
    "\n",
    "Since the previously created EnzymeML document only includes the macro-kinetic reaction, the micro-kinetic model found in Lagerman et al. will be introduced to the EnzymeML document.\n",
    "\n",
    "For this, intermediate species have to be added to the document, which, aside from small-molecules also include protein-substrate complexes. Macromolecular structures can be described in EnzymeML by using the ```Complex``` class, which basically acts as a reference container to participating species that is compatible to SBML. \n",
    "\n",
    "In addition, the following cell also demonstrates how an exitsing EnzymeML document can be edited, where we are simplifying names for model creation. Furthermore, the methanol species will be added using the ```fromChebiID```-Initializer that fetches and fills in data from the CHEBI-Database. Ultimately, using the initializer allows for data consistency and should always be chosen over manual initialization. The same is available for the ```Protein``` class, namely ```fromUniProtID```."
   ]
  },
  {
   "cell_type": "code",
   "execution_count": 2,
   "id": "388bfc60-46d7-4555-88e8-0249fee6bc90",
   "metadata": {},
   "outputs": [],
   "source": [
    "# Load the dataset that was generated using the EnzymeML spreadsheet\n",
    "enzmldoc = EnzymeMLDocument.fromFile(\"EnzymeML_Lagerman.omex\")\n",
    "\n",
    "# Rename entities for simplicity\n",
    "enzmldoc.getReactant(\"s0\").name = \"PGME\"\n",
    "enzmldoc.getReactant(\"s1\").name = \"7-ADCA\"\n",
    "enzmldoc.getReactant(\"s2\").name = \"CEX\"\n",
    "enzmldoc.getReactant(\"s3\").name = \"PG\"\n",
    "enzmldoc.getProtein(\"p0\").name = \"E\"\n",
    "\n",
    "# Set missing initial concentration\n",
    "enzmldoc.getReactant(\"CEX\").init_conc = 0.0\n",
    "enzmldoc.getReactant(\"CEX\").unit = \"mmole / l\"\n",
    "\n",
    "enzmldoc.getReactant(\"PG\").init_conc = 0.0\n",
    "enzmldoc.getReactant(\"PG\").unit = \"mmole / l\"\n",
    "\n",
    "# Change initial concentration of E to mmole / l\n",
    "e = enzmldoc.getProtein(\"E\")\n",
    "e.init_conc = 0.0002\n",
    "e.unit = \"mmole / l\"\n",
    "\n",
    "# Add EA enzyme instance\n",
    "ea = enzmldoc.getProtein(\"E\").copy(deep=True)\n",
    "ea.name = \"EA\"\n",
    "ea.init_conc = 0.0\n",
    "enzmldoc.addProtein(ea)\n",
    "\n",
    "# Add deactivated enzyme instance\n",
    "ed = enzmldoc.getProtein(\"E\").copy(deep=True)\n",
    "ed.name = \"ED\"\n",
    "ed.init_conc = 0.0\n",
    "enzmldoc.addProtein(ed)\n",
    "\n",
    "# Set proteins to not constant for machnistic modeling\n",
    "enzmldoc.getProtein(\"E\").constant = False\n",
    "enzmldoc.getProtein(\"EA\").constant = False\n",
    "enzmldoc.getProtein(\"ED\").constant = False\n",
    "\n",
    "# Add model intermediates\n",
    "enzmldoc.addComplex(\"E·PGME\", [\"E\", \"PGME\"], \"v0\", 0.0, \"mmole/l\")\n",
    "enzmldoc.addComplex(\"E·7-ADCA\", [\"E\", \"7-ADCA\"], \"v0\", 0.0, \"mmole/l\")\n",
    "enzmldoc.addComplex(\"E·PG\", [\"E\", \"PG\"], \"v0\", 0.0, \"mmole/l\")\n",
    "enzmldoc.addComplex(\"E·PGME·PGME\", [\"E\", \"PGME\", \"PGME\"], \"v0\", 0.0, \"mmole/l\")\n",
    "enzmldoc.addComplex(\"EA·7-ADCA\", [\"EA\", \"7-ADCA\"], \"v0\", 0.0, \"mmole/l\")\n",
    "enzmldoc.addComplex(\"EA·PGME\", [\"EA\", \"PGME\"], \"v0\", 0.0, \"mmole/l\")\n",
    "enzmldoc.addComplex(\"E·CEX\", [\"E\", \"CEX\"], \"v0\", 0.0, \"mmole/l\")\n",
    "\n",
    "# Remove the old reaction since we are going to expand it\n",
    "# to a micro-kinetic model for modeling\n",
    "del enzmldoc.reaction_dict[\"r0\"]"
   ]
  },
  {
   "cell_type": "markdown",
   "id": "50bfa05f-876c-4985-8d77-19dd903b132c",
   "metadata": {},
   "source": [
    "<br>"
   ]
  },
  {
   "cell_type": "markdown",
   "id": "bc211e68-84cd-460d-b14c-9cc4c2d3ec36",
   "metadata": {},
   "source": [
    "### Adding the micro-kinetic model\n",
    "\n",
    "Now that alls necessary species are defined, these will be set in relation by adding the reaction network defined in Lagerman et al. For this, the ```EnzymeReaction``` class can either be constructed using deignated ```addEduct``` methods (see examples on PyEnzyme Git) or the ```fromEquation``` initializer inspired by ```BasiCo```. The latter will infer the corresponding ID as well as ```reversibility``` attribute from the equation string and parses educts and products to the object. Furthermore, both kinds of cunstructors require the ```EnzymeMLDocument``` for consistency checks.\n",
    "\n",
    "In this case, we prefer the ```fromEquation```-method since there are a lot of reactions which essentially are only made up of educts and products but no modifiers. At this point, please note the downside of ```fromEquation``` not being able to include modifiers, but since the enzymes/complexes are either consumed or produced, this justifies our usage."
   ]
  },
  {
   "cell_type": "code",
   "execution_count": 3,
   "id": "1ebd9592-faa1-4709-b9db-5562aa4d3fae",
   "metadata": {},
   "outputs": [],
   "source": [
    "# Now define the micro-kinetic model by adding each sub-reaction to the document\n",
    "r1 = EnzymeReaction.fromEquation(\"E·7-ADCA = E + 7-ADCA\", \"reaction-1\", enzmldoc)\n",
    "r2 = EnzymeReaction.fromEquation(\"E·PGME = E + PGME\", \"reaction-2\", enzmldoc)\n",
    "r3 = EnzymeReaction.fromEquation(\"E·PGME -> EA\", \"reaction-3\", enzmldoc)\n",
    "r4 = EnzymeReaction.fromEquation(\"E·PGME·PGME = E·PGME + PGME\", \"reaction-4\", enzmldoc)\n",
    "r5 = EnzymeReaction.fromEquation(\"EA·PGME = EA + PGME\", \"reaction-5\", enzmldoc)\n",
    "r6 = EnzymeReaction.fromEquation(\"EA·PGME -> E + PG\", \"reaction-6\", enzmldoc)\n",
    "r7 = EnzymeReaction.fromEquation(\"EA -> E + PG\", \"reaction-7\", enzmldoc)\n",
    "r8 = EnzymeReaction.fromEquation(\"E·PG = E + PG\", \"reaction-8\", enzmldoc)\n",
    "r9 = EnzymeReaction.fromEquation(\"EA·7-ADCA = EA + 7-ADCA\", \"reaction-9\", enzmldoc)\n",
    "r10 = EnzymeReaction.fromEquation(\"EA·7-ADCA -> E + PG + 7-ADCA\", \"reaction-10\", enzmldoc)\n",
    "r11 = EnzymeReaction.fromEquation(\"EA·7-ADCA = E·CEX\", \"reaction-11\", enzmldoc)\n",
    "r12 = EnzymeReaction.fromEquation(\"E·CEX = E + CEX\", \"reaction-12\", enzmldoc)\n",
    "r13 = EnzymeReaction.fromEquation(\"E -> ED\", \"Enzyme deactivation\", enzmldoc)"
   ]
  },
  {
   "cell_type": "markdown",
   "id": "0b86cde0-4a00-4980-892c-0c9930a02216",
   "metadata": {},
   "source": [
    "<br>"
   ]
  },
  {
   "cell_type": "markdown",
   "id": "50d3467a-edb7-4b0d-83b1-29416c77c955",
   "metadata": {},
   "source": [
    "### Setting up rate laws\n",
    "\n",
    "Given the now added reaction network, it is necessary to add appropriate rate laws to each reaction to facilitate parameter estimation using SBML-based modeling platforms. Since most of the reactions follow normal Mass Action laws, we can set up so called ```ModelFactories``` that represent an abstract model.\n",
    "\n",
    "Previous PyEnzyme versions would require to implement an explicit model for each reaction in the form of \n",
    "\n",
    "```s0 * vmax / (Km + s0)```\n",
    "\n",
    "which requires an equation string for each model. This can become quite tedious and for models, where most reactions share the same rate law quite error prone if done manually. Hence, the ```createGenerator```-initializer of the ```KineticModel``` offers a convenient way to generalize models and ensure consistency as well as re-usability.\n",
    "\n",
    "<br>"
   ]
  },
  {
   "cell_type": "markdown",
   "id": "b3f56862-af50-4931-84c2-c549b161a37b",
   "metadata": {},
   "source": [
    "#### Excursion: Setting up a model generator\n",
    "\n",
    "In order to set up a model generator it requires a ```name```, an ```equation``` and an explicit description of the used parameters occurring in the equation. For instance, lets set up an ```Example-Model``` with equation ```param * substrate``` and parameter ```param``` for simplicity.\n",
    "\n",
    "The algorithm will detect parameters based on the keyword arguments passed to the generator. In addition, these keyword arguments should include a dictionary that can optionally be equipped with all prossible attributes the ```KineticParameter``` class can hold."
   ]
  },
  {
   "cell_type": "code",
   "execution_count": 4,
   "id": "f910cab6-66ce-412a-a4d0-e24afa607432",
   "metadata": {},
   "outputs": [],
   "source": [
    "# Setting up the generator\n",
    "example_gen = KineticModel.createGenerator(name=\"Example-Model\", equation=\"param * substrate\", param={\"unit\": \"1 / s\"})"
   ]
  },
  {
   "cell_type": "markdown",
   "id": "20a6fd24-60a4-4538-8332-9ed3b624116e",
   "metadata": {},
   "source": [
    "The generator can now be applied to any type of reaction by calling the object using the variables as keyword arguments and the corresponding actual species as values. For instance, in our example, ```substrate``` is the variable and thus has to be provided as a keyword argument. If for instance the reaction we want the model has a substrate called ```Pyruvate``` we can explicitly include this in our call."
   ]
  },
  {
   "cell_type": "code",
   "execution_count": 5,
   "id": "d6a05c55-1751-467b-8451-bce9d8417c9b",
   "metadata": {},
   "outputs": [
    {
     "name": "stdout",
     "output_type": "stream",
     "text": [
      "One substrate -- name='Example-Model' equation=\"param * 'Pyruvate'\" parameters=[KineticParameter(name='param', value=None, unit='1 / s', initial_value=None, upper=None, lower=None, is_global=False, stdev=None, constant=False, ontology=None)] ontology=None\n",
      "\n",
      "Multiple substrate -- name='Example-Model' equation=\"param * ('Pyruvate' * 'H2O')\" parameters=[KineticParameter(name='param', value=None, unit='1 / s', initial_value=None, upper=None, lower=None, is_global=False, stdev=None, constant=False, ontology=None)] ontology=None\n",
      "\n"
     ]
    }
   ],
   "source": [
    "# Using the generator with a single species\n",
    "single_example = example_gen(substrate=\"Pyruvate\")\n",
    "print(\"One substrate --\", single_example, end=\"\\n\\n\")\n",
    "\n",
    "# Generators can also take lists and convert them to the model\n",
    "multi_example = example_gen(substrate=[\"Pyruvate\", \"H2O\"])\n",
    "print(\"Multiple substrate --\", multi_example, end=\"\\n\\n\")"
   ]
  },
  {
   "cell_type": "markdown",
   "id": "6d1dd8fd-f75c-4ef1-a49c-9bd94f28f95f",
   "metadata": {},
   "source": [
    "Such a generated model can now be added to a reaction by assigning it to the ```model``` attribute.\n",
    "\n",
    "<br>"
   ]
  },
  {
   "cell_type": "markdown",
   "id": "9febe9cf-59d1-4d82-a547-39976240b4ef",
   "metadata": {},
   "source": [
    "### Adding rate laws\n",
    "\n",
    "As previously discussed, all rate laws will be set up as generator objects that are assigned to each reaction using the corresponding educts/products. In addition, parameters that occur in more than one reaction, are defined as global parameters.\n",
    "\n",
    "Finally, after that has been done, all reactions will be added to the ```EnzymeMLDocument``` object and an overview generated to control the assignment using the ```printReactionSchemes``` method of the EnzymeML document."
   ]
  },
  {
   "cell_type": "code",
   "execution_count": 6,
   "id": "63eccdf2-061a-4a16-a52e-1774e8042f6b",
   "metadata": {},
   "outputs": [],
   "source": [
    "# Set up generators for kinetic models\n",
    "eq_rev = KineticModel.createGenerator(\n",
    "    name=\"MassAction Reversible\", equation=\"K_1 * substrate - K_2 * product\",\n",
    "    K_1={\"unit\": \"1 / min\"}, K_2={\"unit\": \"1 / min\"}\n",
    ")\n",
    "\n",
    "eq_irrev = KineticModel.createGenerator(\n",
    "    name=\"MassAction Irreversible\", equation=\"K_1 * substrate\",\n",
    "    K_1={\"unit\": \"1 / min\"}\n",
    ")\n",
    "\n",
    "mass_eq = KineticModel.createGenerator(\n",
    "    name=\"MassAction Keq\", equation=f\"v_r*(K_eq * substrate - product)\",\n",
    "    K_eq={\"unit\": \"mmole / l\"}, v_r={\"unit\": \"l / mmole min\", \"constant\": True}\n",
    ")"
   ]
  },
  {
   "cell_type": "code",
   "execution_count": 7,
   "id": "9085baeb-0069-4f0d-ba12-188f48da5c1c",
   "metadata": {},
   "outputs": [],
   "source": [
    "# Set up global parameters\n",
    "v_r = enzmldoc.addGlobalParameter(\"v_r\", unit=\"l / mmole min\", constant=True)\n",
    "K_si = enzmldoc.addGlobalParameter(\"K_si\", unit=\"mmole / l\")\n",
    "K_n = enzmldoc.addGlobalParameter(\"K_n\", unit=\"mmole / l\")"
   ]
  },
  {
   "cell_type": "code",
   "execution_count": 8,
   "id": "71a2215f-12cb-4278-9b5b-63a165688250",
   "metadata": {},
   "outputs": [],
   "source": [
    "r1.model = mass_eq(product=[\"E\", \"7-ADCA\"], substrate=\"E·7-ADCA\", mapping={\"K_eq\": \"K_n\"})\n",
    "r2.model = mass_eq(product=[\"E\", \"PGME\"], substrate=\"E·PGME\", mapping={\"K_eq\": \"K_s\"})\n",
    "r3.model = eq_irrev(substrate=\"E·PGME\", mapping={\"K_1\": \"k_2\"})\n",
    "r4.model = mass_eq(product=[\"E·PGME\", \"PGME\"], substrate=\"E·PGME·PGME\", mapping={\"K_eq\": \"K_si\"})\n",
    "r5.model = mass_eq(product=[\"EA\", \"PGME\"], substrate=\"EA·PGME\", mapping={\"K_eq\": \"K_si\"})\n",
    "r6.model = eq_irrev(substrate=\"EA·PGME\", mapping={\"K_1\": \"k_6\"})\n",
    "r7.model = eq_irrev(substrate=\"EA\", mapping={\"K_1\": \"k_3\"})\n",
    "r8.model = mass_eq(product=[\"E\", \"PG\"], substrate=\"E·PG\", mapping={\"K_eq\": \"K_pg\"})\n",
    "r9.model = mass_eq(product=[\"EA\", \"7-ADCA\"], substrate=\"EA·7-ADCA\", mapping={\"K_eq\": \"K_n\"})\n",
    "r10.model = eq_irrev(substrate=\"EA·7-ADCA\", mapping={\"K_1\": \"k_5\"})\n",
    "r11.model = eq_rev(substrate=\"EA·7-ADCA\", product=\"E·CEX\", mapping={\"K_1\": \"k_4\", \"K_2\": \"k_4b\"})\n",
    "r12.model = mass_eq(substrate=\"E·CEX\", product=[\"E\", \"CEX\"], mapping={\"K_eq\": \"K_p\"})\n",
    "r13.model = eq_irrev(substrate=\"E\", mapping={\"K_1\": \"k_d\"} )"
   ]
  },
  {
   "cell_type": "code",
   "execution_count": 9,
   "id": "c8c154e2-9195-4bbe-bf03-c8bc0df948c9",
   "metadata": {},
   "outputs": [],
   "source": [
    "# Finally, add all reactions to the EnzymeML document\n",
    "reaction_ids = enzmldoc.addReactions(\n",
    "    [r1, r2, r3, r4, r5, r6, r7, r8, r9, r10, r11, r12, r13]\n",
    ")"
   ]
  },
  {
   "cell_type": "code",
   "execution_count": 10,
   "id": "263be1b8-bd10-4549-98f8-8689aade6d57",
   "metadata": {},
   "outputs": [
    {
     "data": {
      "text/html": [
       "<div>\n",
       "<style scoped>\n",
       "    .dataframe tbody tr th:only-of-type {\n",
       "        vertical-align: middle;\n",
       "    }\n",
       "\n",
       "    .dataframe tbody tr th {\n",
       "        vertical-align: top;\n",
       "    }\n",
       "\n",
       "    .dataframe thead th {\n",
       "        text-align: right;\n",
       "    }\n",
       "</style>\n",
       "<table border=\"1\" class=\"dataframe\">\n",
       "  <thead>\n",
       "    <tr style=\"text-align: right;\">\n",
       "      <th></th>\n",
       "      <th>Name</th>\n",
       "      <th>equation</th>\n",
       "      <th>kinetic law</th>\n",
       "    </tr>\n",
       "    <tr>\n",
       "      <th>ID</th>\n",
       "      <th></th>\n",
       "      <th></th>\n",
       "      <th></th>\n",
       "    </tr>\n",
       "  </thead>\n",
       "  <tbody>\n",
       "    <tr>\n",
       "      <th>r0</th>\n",
       "      <td>reaction-1</td>\n",
       "      <td>1.0 E·7-ADCA &lt;=&gt; 1.0 E + 1.0 7-ADCA</td>\n",
       "      <td>v_r*(K_n * E·7-ADCA - (E * 7-ADCA))</td>\n",
       "    </tr>\n",
       "    <tr>\n",
       "      <th>r1</th>\n",
       "      <td>reaction-2</td>\n",
       "      <td>1.0 E·PGME &lt;=&gt; 1.0 E + 1.0 PGME</td>\n",
       "      <td>v_r*(K_s * E·PGME - (E * PGME))</td>\n",
       "    </tr>\n",
       "    <tr>\n",
       "      <th>r2</th>\n",
       "      <td>reaction-3</td>\n",
       "      <td>1.0 E·PGME -&gt; 1.0 EA</td>\n",
       "      <td>k_2 * E·PGME</td>\n",
       "    </tr>\n",
       "    <tr>\n",
       "      <th>r3</th>\n",
       "      <td>reaction-4</td>\n",
       "      <td>1.0 E·PGME·PGME &lt;=&gt; 1.0 E·PGME + 1.0 PGME</td>\n",
       "      <td>v_r*(K_si * E·PGME·PGME - (E·PGME * PGME))</td>\n",
       "    </tr>\n",
       "    <tr>\n",
       "      <th>r4</th>\n",
       "      <td>reaction-5</td>\n",
       "      <td>1.0 EA·PGME &lt;=&gt; 1.0 EA + 1.0 PGME</td>\n",
       "      <td>v_r*(K_si * EA·PGME - (EA * PGME))</td>\n",
       "    </tr>\n",
       "    <tr>\n",
       "      <th>r5</th>\n",
       "      <td>reaction-6</td>\n",
       "      <td>1.0 EA·PGME -&gt; 1.0 E + 1.0 PG</td>\n",
       "      <td>k_6 * EA·PGME</td>\n",
       "    </tr>\n",
       "    <tr>\n",
       "      <th>r6</th>\n",
       "      <td>reaction-7</td>\n",
       "      <td>1.0 EA -&gt; 1.0 E + 1.0 PG</td>\n",
       "      <td>k_3 * EA</td>\n",
       "    </tr>\n",
       "    <tr>\n",
       "      <th>r7</th>\n",
       "      <td>reaction-8</td>\n",
       "      <td>1.0 E·PG &lt;=&gt; 1.0 E + 1.0 PG</td>\n",
       "      <td>v_r*(K_pg * E·PG - (E * PG))</td>\n",
       "    </tr>\n",
       "    <tr>\n",
       "      <th>r8</th>\n",
       "      <td>reaction-9</td>\n",
       "      <td>1.0 EA·7-ADCA &lt;=&gt; 1.0 EA + 1.0 7-ADCA</td>\n",
       "      <td>v_r*(K_n * EA·7-ADCA - (EA * 7-ADCA))</td>\n",
       "    </tr>\n",
       "    <tr>\n",
       "      <th>r9</th>\n",
       "      <td>reaction-10</td>\n",
       "      <td>1.0 EA·7-ADCA -&gt; 1.0 E + 1.0 PG + 1.0 7-ADCA</td>\n",
       "      <td>k_5 * EA·7-ADCA</td>\n",
       "    </tr>\n",
       "    <tr>\n",
       "      <th>r10</th>\n",
       "      <td>reaction-11</td>\n",
       "      <td>1.0 EA·7-ADCA &lt;=&gt; 1.0 E·CEX</td>\n",
       "      <td>k_4 * EA·7-ADCA - k_4b * E·CEX</td>\n",
       "    </tr>\n",
       "    <tr>\n",
       "      <th>r11</th>\n",
       "      <td>reaction-12</td>\n",
       "      <td>1.0 E·CEX &lt;=&gt; 1.0 E + 1.0 CEX</td>\n",
       "      <td>v_r*(K_p * E·CEX - (E * CEX))</td>\n",
       "    </tr>\n",
       "    <tr>\n",
       "      <th>r12</th>\n",
       "      <td>Enzyme deactivation</td>\n",
       "      <td>1.0 E -&gt; 1.0 ED</td>\n",
       "      <td>k_d * E</td>\n",
       "    </tr>\n",
       "  </tbody>\n",
       "</table>\n",
       "</div>"
      ],
      "text/plain": [
       "                    Name                                      equation  \\\n",
       "ID                                                                       \n",
       "r0            reaction-1           1.0 E·7-ADCA <=> 1.0 E + 1.0 7-ADCA   \n",
       "r1            reaction-2               1.0 E·PGME <=> 1.0 E + 1.0 PGME   \n",
       "r2            reaction-3                          1.0 E·PGME -> 1.0 EA   \n",
       "r3            reaction-4     1.0 E·PGME·PGME <=> 1.0 E·PGME + 1.0 PGME   \n",
       "r4            reaction-5             1.0 EA·PGME <=> 1.0 EA + 1.0 PGME   \n",
       "r5            reaction-6                 1.0 EA·PGME -> 1.0 E + 1.0 PG   \n",
       "r6            reaction-7                      1.0 EA -> 1.0 E + 1.0 PG   \n",
       "r7            reaction-8                   1.0 E·PG <=> 1.0 E + 1.0 PG   \n",
       "r8            reaction-9         1.0 EA·7-ADCA <=> 1.0 EA + 1.0 7-ADCA   \n",
       "r9           reaction-10  1.0 EA·7-ADCA -> 1.0 E + 1.0 PG + 1.0 7-ADCA   \n",
       "r10          reaction-11                   1.0 EA·7-ADCA <=> 1.0 E·CEX   \n",
       "r11          reaction-12                 1.0 E·CEX <=> 1.0 E + 1.0 CEX   \n",
       "r12  Enzyme deactivation                               1.0 E -> 1.0 ED   \n",
       "\n",
       "                                    kinetic law  \n",
       "ID                                               \n",
       "r0          v_r*(K_n * E·7-ADCA - (E * 7-ADCA))  \n",
       "r1              v_r*(K_s * E·PGME - (E * PGME))  \n",
       "r2                                 k_2 * E·PGME  \n",
       "r3   v_r*(K_si * E·PGME·PGME - (E·PGME * PGME))  \n",
       "r4           v_r*(K_si * EA·PGME - (EA * PGME))  \n",
       "r5                                k_6 * EA·PGME  \n",
       "r6                                     k_3 * EA  \n",
       "r7                 v_r*(K_pg * E·PG - (E * PG))  \n",
       "r8        v_r*(K_n * EA·7-ADCA - (EA * 7-ADCA))  \n",
       "r9                              k_5 * EA·7-ADCA  \n",
       "r10              k_4 * EA·7-ADCA - k_4b * E·CEX  \n",
       "r11               v_r*(K_p * E·CEX - (E * CEX))  \n",
       "r12                                     k_d * E  "
      ]
     },
     "execution_count": 10,
     "metadata": {},
     "output_type": "execute_result"
    }
   ],
   "source": [
    "enzmldoc.printReactionSchemes(by_name=True)"
   ]
  },
  {
   "cell_type": "code",
   "execution_count": 11,
   "id": "ae47fd38-92b3-4be9-be1b-2fc1bf34337f",
   "metadata": {},
   "outputs": [
    {
     "name": "stdout",
     "output_type": "stream",
     "text": [
      "\n",
      "Archive was written to ./Model_4.omex\n",
      "\n"
     ]
    }
   ],
   "source": [
    "# Finally, write the document to an OMEX archive\n",
    "enzmldoc.toFile(\".\", name=\"Model_4\")"
   ]
  },
  {
   "cell_type": "markdown",
   "id": "b4390749-bf27-49fc-8f01-74d252936866",
   "metadata": {},
   "source": [
    "-----\n",
    "## Kinetic Modeling\n",
    "\n",
    "Now that the EnzymeMLDocument has been adapted to the micro-kinetic model, it can be modeled and optimized using PySCeS and COPASI. Since both modeling package interfaces are an integral part of PyEnzyme, called Thin Layer, a simple call to the corresponding Thin Layer object is necessary.\n",
    "\n",
    "But before optimization, it might be necessary to define initial values. Since manipulating the KineticParameter initial_values attributes inside the script that generates the EnzymeMLDocument can get quite tedious, PyEnzyme offers an external data structure from within initial values can be applied. This way, the EnzymeML document is only modified at optimization and remains untouched until then.\n",
    "\n",
    "The initialization file is in the YAML format and contains all reactions and their parameters. In addition, PyEnzyme offers a method to generate such a YAML file, which can be edited manually with the initial parameter values for the optimization."
   ]
  },
  {
   "cell_type": "code",
   "execution_count": 12,
   "id": "064a2e4d",
   "metadata": {},
   "outputs": [],
   "source": [
    "# In addition, generate a blank YAML file to manually enter initial values for modeling\n",
    "enzmldoc.generateInitialValueTemplate()"
   ]
  },
  {
   "cell_type": "markdown",
   "id": "be405add",
   "metadata": {},
   "source": [
    "### Using the PySCeS thin layer\n",
    "\n",
    "The PySCeS thin layer can be used in conjunction with the initialization YAML file. The thin layer will extract all necessary data, feed it into the simulation framework and iteratively optimizes the given parameters until convergence. At the end, the estimated parameters will be written to a new EnzymeMLDocument and saved."
   ]
  },
  {
   "cell_type": "code",
   "execution_count": 13,
   "id": "9dbb73a8",
   "metadata": {},
   "outputs": [],
   "source": [
    "from pyenzyme.thinlayers import ThinLayerPysces"
   ]
  },
  {
   "cell_type": "markdown",
   "id": "e301866f",
   "metadata": {},
   "source": [
    "First, the SBML model is converted to a PySCeS input file, this happens automatically. The warning about SBML Level 3 can be safely ignored as PySCeS has all the functionality required for this simulation."
   ]
  },
  {
   "cell_type": "code",
   "execution_count": 14,
   "id": "6da5e4e3",
   "metadata": {},
   "outputs": [
    {
     "name": "stdout",
     "output_type": "stream",
     "text": [
      "Check SBML support is at action level 2\n",
      "SBML file is L3V2\n",
      "\n",
      "\n",
      "\n",
      "*********ERRORS***********\n",
      "\n",
      "WARNING: Model is encoded as SBML Level 3, PySCeS only officially supports L2V5.\n",
      "\n",
      "*********ERRORS***********\n",
      "\n",
      "\n",
      "Possible errors detected in SBML conversion, Model may be incomplete. Please check the error log file \"EnzymeML_Lagerman.xml-sbml_conversion_errors.txt\" for details.\n",
      "\n",
      "\n",
      "*******************************************************************\n",
      "Issues encountered in SBML translation (model processed anyway)\n",
      "SBML source: pySCeS/EnzymeML_Lagerman.xml\n",
      "*******************************************************************\n",
      "\n",
      "Parameter units ignored for parameters:\n",
      "['v_r', 'K_si', 'K_n'] \n",
      "\n",
      "Parameter units ignored for (local) parameters:\n",
      "['K_s', 'k_2', 'k_6', 'k_3', 'K_pg', 'k_5', 'k_4', 'k_4b', 'K_p', 'k_d'] \n",
      "\n",
      "*******************************************************************\n",
      "\n",
      "Info: single compartment model: locating \"r0\" in default compartment\n",
      "Info: single compartment model: locating \"r1\" in default compartment\n",
      "Info: single compartment model: locating \"r2\" in default compartment\n",
      "Info: single compartment model: locating \"r3\" in default compartment\n",
      "Info: single compartment model: locating \"r4\" in default compartment\n",
      "Info: single compartment model: locating \"r5\" in default compartment\n",
      "Info: single compartment model: locating \"r6\" in default compartment\n",
      "Info: single compartment model: locating \"r7\" in default compartment\n",
      "Info: single compartment model: locating \"r8\" in default compartment\n",
      "Info: single compartment model: locating \"r9\" in default compartment\n",
      "Info: single compartment model: locating \"r10\" in default compartment\n",
      "Info: single compartment model: locating \"r11\" in default compartment\n",
      "Info: single compartment model: locating \"r12\" in default compartment\n",
      "Writing file: pySCeS/EnzymeML_Lagerman.xml.psc\n",
      "\n",
      "SBML2PSC\n",
      "in : pySCeS/EnzymeML_Lagerman.xml\n",
      "out: pySCeS/EnzymeML_Lagerman.xml.psc\n",
      "Assuming extension is .psc\n",
      "Using model directory: pySCeS\n",
      "pySCeS/EnzymeML_Lagerman.xml.psc loading ..... \n",
      "Parsing file: pySCeS/EnzymeML_Lagerman.xml.psc\n",
      "Info: No reagents have been fixed\n",
      " \n",
      "Calculating L matrix . . . . . . .  done.\n",
      "Calculating K matrix . . . . . . . . .  done.\n",
      " \n"
     ]
    }
   ],
   "source": [
    "# Initialize the layer\n",
    "tl_pysces = ThinLayerPysces(\n",
    "    \"Model_4.omex\", init_file=\"EnzymeML_Lagerman_init_values_.yaml\",\n",
    "    model_dir=\"pySCeS\"\n",
    ")"
   ]
  },
  {
   "cell_type": "markdown",
   "id": "ef830815",
   "metadata": {},
   "source": [
    "Now, the optimization is run. Two different numerical integration algorithms are available in PySCeS, i.e. `LSODA` and `CVODE`. Here we choose `CVODE`. The optimization algorithm can also be specified, any of the algorithms available in LMFIT (https://lmfit.github.io/lmfit-py/fitting.html#choosing-different-fitting-methods) can be chosen."
   ]
  },
  {
   "cell_type": "code",
   "execution_count": 15,
   "id": "6772b71b",
   "metadata": {},
   "outputs": [],
   "source": [
    "# Run optimization\n",
    "tl_pysces.model.mode_integrator='CVODE'\n",
    "tl_opt = tl_pysces.optimize(method=\"least_squares\")"
   ]
  },
  {
   "cell_type": "code",
   "execution_count": 16,
   "id": "51dd7873",
   "metadata": {},
   "outputs": [
    {
     "data": {
      "text/html": [
       "<h2>Fit Statistics</h2><table><tr><td>fitting method</td><td>least_squares</td><td></td></tr><tr><td># function evals</td><td>18</td><td></td></tr><tr><td># data points</td><td>320</td><td></td></tr><tr><td># variables</td><td>12</td><td></td></tr><tr><td>chi-square</td><td> 2951.22432</td><td></td></tr><tr><td>reduced chi-square</td><td> 9.58189715</td><td></td></tr><tr><td>Akaike info crit.</td><td> 734.929405</td><td></td></tr><tr><td>Bayesian info crit.</td><td> 780.149257</td><td></td></tr></table><h2>Variables</h2><table><tr><th> name </th><th> value </th><th> standard error </th><th> relative error </th><th> initial value </th><th> min </th><th> max </th><th> vary </th></tr><tr><td> v_r </td><td>  1.0000e+09 </td><td>  0.00000000 </td><td> (0.00%) </td><td> 1000000000.0 </td><td>        -inf </td><td>         inf </td><td> False </td></tr><tr><td> K_si </td><td>  5.39337342 </td><td>  0.93246815 </td><td> (17.29%) </td><td> 6.346729249 </td><td>  0.01000000 </td><td>  1000.00000 </td><td> True </td></tr><tr><td> K_n </td><td>  6.50049502 </td><td>  1.55960885 </td><td> (23.99%) </td><td> 11.00542741 </td><td>  0.01000000 </td><td>  10000.0000 </td><td> True </td></tr><tr><td> r1_K_s </td><td>  5.12950319 </td><td>  1.03650938 </td><td> (20.21%) </td><td> 5.676255758 </td><td>  0.01000000 </td><td>  1000.00000 </td><td> True </td></tr><tr><td> r2_k_2 </td><td>  569452.681 </td><td>  92198.7563 </td><td> (16.19%) </td><td> 652085.5139 </td><td>  1.00000000 </td><td>  1000000.00 </td><td> True </td></tr><tr><td> r5_k_6 </td><td>  249555.287 </td><td>  77303.5694 </td><td> (30.98%) </td><td> 393169.3931 </td><td>  1.00000000 </td><td>  10000000.0 </td><td> True </td></tr><tr><td> r6_k_3 </td><td>  15.8995797 </td><td>  6.25028953 </td><td> (39.31%) </td><td> 8.93817854 </td><td>  1.00000000 </td><td>  1000000.00 </td><td> True </td></tr><tr><td> r7_K_pg </td><td>  129.952300 </td><td>  29.9876732 </td><td> (23.08%) </td><td> 47.34446037 </td><td>  0.01000000 </td><td>  1000.00000 </td><td> True </td></tr><tr><td> r9_k_5 </td><td>  884605.533 </td><td>  204522.629 </td><td> (23.12%) </td><td> 672295.823 </td><td>  1.00000000 </td><td>  1000000.00 </td><td> True </td></tr><tr><td> r10_k_4 </td><td>  1577461.07 </td><td>  345178.098 </td><td> (21.88%) </td><td> 1870570.524 </td><td>  1.00000000 </td><td>  1.0000e+08 </td><td> True </td></tr><tr><td> r10_k_4b </td><td>  36802.5461 </td><td>  5963.80588 </td><td> (16.20%) </td><td> 42451.1374 </td><td>  1.00000000 </td><td>  1.0000e+08 </td><td> True </td></tr><tr><td> r11_K_p </td><td>  1.29574677 </td><td>  0.34043006 </td><td> (26.27%) </td><td> 0.9433184993 </td><td>  0.01000000 </td><td>  1000.00000 </td><td> True </td></tr><tr><td> r12_k_d </td><td>  0.32920628 </td><td>  0.23138589 </td><td> (70.29%) </td><td> 0.5149464784 </td><td>  1.0000e-03 </td><td>  1.00000000 </td><td> True </td></tr></table><h2>Correlations (unreported correlations are < 0.100)</h2><table><tr><td>K_si</td><td>r2_k_2</td><td>-0.9611</td></tr><tr><td>r9_k_5</td><td>r10_k_4</td><td>0.8630</td></tr><tr><td>r1_K_s</td><td>r2_k_2</td><td>0.6379</td></tr><tr><td>r1_K_s</td><td>r5_k_6</td><td>-0.6288</td></tr><tr><td>K_si</td><td>r1_K_s</td><td>-0.5700</td></tr><tr><td>K_n</td><td>r5_k_6</td><td>-0.5434</td></tr><tr><td>r10_k_4</td><td>r11_K_p</td><td>-0.5423</td></tr><tr><td>K_n</td><td>r10_k_4b</td><td>-0.4756</td></tr><tr><td>r5_k_6</td><td>r10_k_4</td><td>0.4694</td></tr><tr><td>r9_k_5</td><td>r10_k_4b</td><td>-0.4659</td></tr><tr><td>r6_k_3</td><td>r10_k_4</td><td>-0.4555</td></tr><tr><td>r6_k_3</td><td>r9_k_5</td><td>-0.4515</td></tr><tr><td>K_n</td><td>r1_K_s</td><td>0.4407</td></tr><tr><td>r5_k_6</td><td>r11_K_p</td><td>-0.4210</td></tr><tr><td>r7_K_pg</td><td>r9_k_5</td><td>-0.4191</td></tr><tr><td>K_n</td><td>r12_k_d</td><td>-0.3832</td></tr><tr><td>r1_K_s</td><td>r12_k_d</td><td>-0.3732</td></tr><tr><td>r1_K_s</td><td>r6_k_3</td><td>-0.3514</td></tr><tr><td>r7_K_pg</td><td>r10_k_4</td><td>-0.3464</td></tr><tr><td>K_si</td><td>r11_K_p</td><td>0.3307</td></tr><tr><td>r1_K_s</td><td>r10_k_4b</td><td>-0.3208</td></tr><tr><td>r2_k_2</td><td>r5_k_6</td><td>-0.3110</td></tr><tr><td>r7_K_pg</td><td>r10_k_4b</td><td>0.3106</td></tr><tr><td>r2_k_2</td><td>r11_K_p</td><td>-0.2926</td></tr><tr><td>r5_k_6</td><td>r12_k_d</td><td>0.2885</td></tr><tr><td>r5_k_6</td><td>r9_k_5</td><td>0.2838</td></tr><tr><td>r9_k_5</td><td>r11_K_p</td><td>-0.2721</td></tr><tr><td>r5_k_6</td><td>r10_k_4b</td><td>0.2640</td></tr><tr><td>K_si</td><td>r10_k_4</td><td>-0.2627</td></tr><tr><td>r10_k_4</td><td>r10_k_4b</td><td>-0.2584</td></tr><tr><td>r5_k_6</td><td>r7_K_pg</td><td>-0.2483</td></tr><tr><td>r10_k_4b</td><td>r12_k_d</td><td>0.2313</td></tr><tr><td>K_si</td><td>r6_k_3</td><td>0.2301</td></tr><tr><td>r7_K_pg</td><td>r11_K_p</td><td>0.2282</td></tr><tr><td>K_si</td><td>r5_k_6</td><td>0.2018</td></tr><tr><td>K_n</td><td>r7_K_pg</td><td>0.1983</td></tr><tr><td>r2_k_2</td><td>r6_k_3</td><td>-0.1950</td></tr><tr><td>K_n</td><td>r11_K_p</td><td>0.1950</td></tr><tr><td>r11_K_p</td><td>r12_k_d</td><td>-0.1878</td></tr><tr><td>r10_k_4b</td><td>r11_K_p</td><td>0.1768</td></tr><tr><td>K_n</td><td>r6_k_3</td><td>-0.1702</td></tr><tr><td>K_si</td><td>r12_k_d</td><td>0.1581</td></tr><tr><td>r7_K_pg</td><td>r12_k_d</td><td>-0.1562</td></tr><tr><td>r6_k_3</td><td>r12_k_d</td><td>-0.1559</td></tr><tr><td>K_si</td><td>r10_k_4b</td><td>0.1410</td></tr><tr><td>r2_k_2</td><td>r10_k_4</td><td>0.1405</td></tr><tr><td>K_si</td><td>r9_k_5</td><td>-0.1372</td></tr><tr><td>r1_K_s</td><td>r7_K_pg</td><td>0.1354</td></tr><tr><td>r1_K_s</td><td>r11_K_p</td><td>0.1068</td></tr></table>"
      ],
      "text/plain": [
       "<lmfit.minimizer.MinimizerResult at 0x7f95771434f0>"
      ]
     },
     "execution_count": 16,
     "metadata": {},
     "output_type": "execute_result"
    }
   ],
   "source": [
    "tl_opt"
   ]
  },
  {
   "cell_type": "markdown",
   "id": "48fa8537",
   "metadata": {},
   "source": [
    "Finally, the result is written to a new EnzymeML Document and saved to file."
   ]
  },
  {
   "cell_type": "code",
   "execution_count": 17,
   "id": "aeec5b79",
   "metadata": {},
   "outputs": [
    {
     "name": "stdout",
     "output_type": "stream",
     "text": [
      "\n",
      "Archive was written to ./EnzymeML_Lagerman_M4_PySCeS_Modeled.omex\n",
      "\n"
     ]
    }
   ],
   "source": [
    "# Write to new EnzymeMLDocument and save\n",
    "nu_doc = tl_pysces.write()\n",
    "nu_doc.toFile(\".\", name=\"EnzymeML_Lagerman_M4_PySCeS_Modeled\")"
   ]
  }
 ],
 "metadata": {
  "kernelspec": {
   "display_name": "Python 3 (ipykernel)",
   "language": "python",
   "name": "python3"
  },
  "language_info": {
   "codemirror_mode": {
    "name": "ipython",
    "version": 3
   },
   "file_extension": ".py",
   "mimetype": "text/x-python",
   "name": "python",
   "nbconvert_exporter": "python",
   "pygments_lexer": "ipython3",
   "version": "3.9.6"
  },
  "toc": {
   "base_numbering": 1,
   "nav_menu": {},
   "number_sections": true,
   "sideBar": true,
   "skip_h1_title": false,
   "title_cell": "Table of Contents",
   "title_sidebar": "Contents",
   "toc_cell": false,
   "toc_position": {},
   "toc_section_display": true,
   "toc_window_display": true
  }
 },
 "nbformat": 4,
 "nbformat_minor": 5
}
