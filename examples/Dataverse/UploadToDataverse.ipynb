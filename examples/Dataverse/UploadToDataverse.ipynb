{
 "cells": [
  {
   "cell_type": "markdown",
   "id": "fdc272bd-5594-4b41-8c7e-2ba1af60db37",
   "metadata": {},
   "source": [
    "# Upload to Dataverse\n",
    "\n",
    "PyEnzyme offers the upload to any Dataverse installation that supports the official [EnzymeML metadatablock](https://doi.org/10.18419/darus-2105) by utilizing the Dataverse API [PyDaRUS](https://github.com/JR-1991/pyDaRUS) to map all relevant fields and perform upload. The following steps will be done in this example:\n",
    "\n",
    "- Convert an EnzymeML spreadsheet to an `EnzymeMLDocument`\n",
    "- Upload the dataset to Dataverse"
   ]
  },
  {
   "cell_type": "code",
   "execution_count": null,
   "id": "0f8f8f98-4ff0-4c04-bf88-a3ffc43e27ca",
   "metadata": {},
   "outputs": [],
   "source": [
    "import pyenzyme as pe"
   ]
  },
  {
   "cell_type": "code",
   "execution_count": null,
   "id": "943dc442-fa97-4ef6-89d6-bc4c7f1788b2",
   "metadata": {},
   "outputs": [],
   "source": [
    "# Load the EnzymeMLDocument\n",
    "enzmldoc = pe.EnzymeMLDocument.fromTemplate(\"EnzymeML_Template_Example.xlsm\")"
   ]
  },
  {
   "cell_type": "code",
   "execution_count": null,
   "id": "4119ab0f-6b4c-4b74-8a52-09f940684dae",
   "metadata": {},
   "outputs": [],
   "source": [
    "# Upload it to Dataverse (Dataset is private)\n",
    "enzmldoc.uploadToDataverse(dataverse_name=\"playground\")"
   ]
  },
  {
   "cell_type": "markdown",
   "id": "c749b3af-3de0-429a-b23e-e474bb7e2f4c",
   "metadata": {},
   "source": [
    "For reasons of data quality, the resulting dataset can't be viewed on the web. In order to visit examples that have utilized the method, see the [EnzymeML at Work](https://darus.uni-stuttgart.de/dataverse/enzymeml_at_work) collection."
   ]
  },
  {
   "cell_type": "markdown",
   "id": "9cff7bbb-9186-4c21-8bad-813291d29b33",
   "metadata": {},
   "source": [
    "------"
   ]
  }
 ],
 "metadata": {
  "kernelspec": {
   "display_name": "enzymeml",
   "language": "python",
   "name": "enzymeml"
  },
  "language_info": {
   "codemirror_mode": {
    "name": "ipython",
    "version": 3
   },
   "file_extension": ".py",
   "mimetype": "text/x-python",
   "name": "python",
   "nbconvert_exporter": "python",
   "pygments_lexer": "ipython3",
   "version": "3.9.10"
  }
 },
 "nbformat": 4,
 "nbformat_minor": 5
}
